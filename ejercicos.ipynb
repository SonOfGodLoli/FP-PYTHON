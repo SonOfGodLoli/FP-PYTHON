{
 "cells": [
  {
   "cell_type": "markdown",
   "id": "04871108",
   "metadata": {},
   "source": [
    "1 -Un método para obtener el cociente y el resto de dos números es por restas sucesivas. El método \n",
    "consiste en restar sucesivamente el divisor del dividendo hasta obtener un resultado menor que el \n",
    "divisor, que será el resto de la división; el número de restas efectuadas será el cociente. "
   ]
  },
  {
   "cell_type": "code",
   "execution_count": null,
   "id": "5a57fbaf",
   "metadata": {},
   "outputs": [],
   "source": [
    "import os\n",
    "os.system(\"cls\")\n",
    "\n",
    "n1 = int ( input (\"Ingrese el dividendo : \")) #23\n",
    "n2 = int ( input (\"Ingrese el divisor : \")) #4\n",
    "\n",
    "cociente = 0\n",
    "resto = n1\n",
    "while n2>=n1-n2:\n",
    "    cociente +=1\n",
    "    n1 = n1-n2\n",
    "    \n",
    "print(f\"El cociente es {cociente}\")\n",
    "print(f\"El resto es {resto}\")\n",
    "    \n",
    "    "
   ]
  },
  {
   "cell_type": "markdown",
   "id": "c8ab3622",
   "metadata": {},
   "source": [
    "2 -Desarrolle el programa que permita multiplicar dos números enteros, no utilizar el operador *."
   ]
  },
  {
   "cell_type": "code",
   "execution_count": null,
   "id": "f553ccc3",
   "metadata": {},
   "outputs": [],
   "source": [
    "n1 = int( input (\"ingrese el numeroa multiplicar : \"))\n",
    "n2 = int( input (\"ingrese el numero multiplicador : \"))\n",
    "\n",
    "resultado = 0\n",
    "for i in n2:\n",
    "    resultado += n1\n",
    "    \n",
    "print (f\"El resultado es : {resultado}\")"
   ]
  }
 ],
 "metadata": {
  "language_info": {
   "name": "python"
  }
 },
 "nbformat": 4,
 "nbformat_minor": 5
}
